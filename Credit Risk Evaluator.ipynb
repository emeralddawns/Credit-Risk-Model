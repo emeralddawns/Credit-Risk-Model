{
 "cells": [
  {
   "cell_type": "code",
   "execution_count": 1,
   "metadata": {},
   "outputs": [],
   "source": [
    "import numpy as np\n",
    "import pandas as pd\n",
    "from pathlib import Path\n",
    "from sklearn.preprocessing import StandardScaler\n",
    "from pprint import pprint\n",
    "from sklearn.metrics import confusion_matrix, classification_report"
   ]
  },
  {
   "cell_type": "code",
   "execution_count": 2,
   "metadata": {},
   "outputs": [],
   "source": [
    "train_df = pd.read_csv(Path('Resources/2019loans.csv'))\n",
    "test_df = pd.read_csv(Path('Resources/2020Q1loans.csv'))"
   ]
  },
  {
   "cell_type": "code",
   "execution_count": 3,
   "metadata": {},
   "outputs": [
    {
     "data": {
      "text/plain": [
       "(12180, 86)"
      ]
     },
     "execution_count": 3,
     "metadata": {},
     "output_type": "execute_result"
    }
   ],
   "source": [
    "train_df.shape"
   ]
  },
  {
   "cell_type": "markdown",
   "metadata": {},
   "source": [
    "## Preprocessing without Scaling"
   ]
  },
  {
   "cell_type": "code",
   "execution_count": 4,
   "metadata": {},
   "outputs": [],
   "source": [
    "# Drop the label to create the X data\n",
    "X_train = train_df.drop('loan_status', axis = 1)\n",
    "X_test = test_df.drop('loan_status', axis = 1)"
   ]
  },
  {
   "cell_type": "code",
   "execution_count": 5,
   "metadata": {},
   "outputs": [],
   "source": [
    "# Convert categorical data to numeric and separate target feature (y) for training data\n",
    "X_train_dummies = pd.get_dummies(X_train)\n",
    "\n",
    "y_train = train_df['loan_status']"
   ]
  },
  {
   "cell_type": "code",
   "execution_count": 6,
   "metadata": {},
   "outputs": [],
   "source": [
    "# Convert categorical data to numeric and separate target feature for testing data\n",
    "X_test_dummies = pd.get_dummies(X_test)\n",
    "\n",
    "y_test = test_df['loan_status']"
   ]
  },
  {
   "cell_type": "code",
   "execution_count": 7,
   "metadata": {},
   "outputs": [
    {
     "data": {
      "text/plain": [
       "((12180, 94), (4702, 93))"
      ]
     },
     "execution_count": 7,
     "metadata": {},
     "output_type": "execute_result"
    }
   ],
   "source": [
    "X_train_dummies.shape, X_test_dummies.shape"
   ]
  },
  {
   "cell_type": "code",
   "execution_count": 8,
   "metadata": {},
   "outputs": [
    {
     "name": "stdout",
     "output_type": "stream",
     "text": [
      "['debt_settlement_flag_Y']\n",
      "[]\n"
     ]
    }
   ],
   "source": [
    "#Find missing variables\n",
    "print(list(set(X_train_dummies.columns) - set(X_test_dummies.columns)))\n",
    "print(list(set(X_test_dummies.columns) - set(X_train_dummies.columns)))"
   ]
  },
  {
   "cell_type": "code",
   "execution_count": 9,
   "metadata": {},
   "outputs": [],
   "source": [
    "# add missing dummy variables to testing set - X_test_dummies is missing 'debt_settlement_flag_Y', which is presumably the inverse of 'debt_settlement_flag_N'\n",
    "# https://stackoverflow.com/questions/45094948/how-to-swap-the-0-and-1-values-for-each-other-in-a-pandas-data-frame\n",
    "X_test_dummies['debt_settlement_flag_Y'] = X_test_dummies['debt_settlement_flag_N'] ^ 1"
   ]
  },
  {
   "cell_type": "markdown",
   "metadata": {},
   "source": [
    "## Running the Models\n",
    "\n",
    "As the data has more continuous variables than categorical variables, I predict that the Logistic Regression model will perform better."
   ]
  },
  {
   "cell_type": "code",
   "execution_count": 10,
   "metadata": {},
   "outputs": [
    {
     "name": "stdout",
     "output_type": "stream",
     "text": [
      "Training Data Score: 0.6485221674876848\n",
      "Testing Data Score: 0.5253083794130158\n"
     ]
    },
    {
     "name": "stderr",
     "output_type": "stream",
     "text": [
      "C:\\Users\\emera\\anaconda3\\lib\\site-packages\\sklearn\\linear_model\\_logistic.py:763: ConvergenceWarning: lbfgs failed to converge (status=1):\n",
      "STOP: TOTAL NO. of ITERATIONS REACHED LIMIT.\n",
      "\n",
      "Increase the number of iterations (max_iter) or scale the data as shown in:\n",
      "    https://scikit-learn.org/stable/modules/preprocessing.html\n",
      "Please also refer to the documentation for alternative solver options:\n",
      "    https://scikit-learn.org/stable/modules/linear_model.html#logistic-regression\n",
      "  n_iter_i = _check_optimize_result(\n"
     ]
    }
   ],
   "source": [
    "# Train the Logistic Regression model on the unscaled data\n",
    "from sklearn.linear_model import LogisticRegression\n",
    "\n",
    "classifier = LogisticRegression(solver = \"lbfgs\")\n",
    "classifier.fit(X_train_dummies, y_train)\n",
    "\n",
    "# Print the model score\n",
    "print(f\"Training Data Score: {classifier.score(X_train_dummies, y_train)}\")\n",
    "print(f\"Testing Data Score: {classifier.score(X_test_dummies, y_test)}\")"
   ]
  },
  {
   "cell_type": "code",
   "execution_count": 11,
   "metadata": {},
   "outputs": [
    {
     "name": "stdout",
     "output_type": "stream",
     "text": [
      "Hyperparameter List:\n",
      "{'bootstrap': True,\n",
      " 'ccp_alpha': 0.0,\n",
      " 'class_weight': None,\n",
      " 'criterion': 'gini',\n",
      " 'max_depth': None,\n",
      " 'max_features': 'auto',\n",
      " 'max_leaf_nodes': None,\n",
      " 'max_samples': None,\n",
      " 'min_impurity_decrease': 0.0,\n",
      " 'min_impurity_split': None,\n",
      " 'min_samples_leaf': 1,\n",
      " 'min_samples_split': 2,\n",
      " 'min_weight_fraction_leaf': 0.0,\n",
      " 'n_estimators': 500,\n",
      " 'n_jobs': None,\n",
      " 'oob_score': False,\n",
      " 'random_state': 1,\n",
      " 'verbose': 0,\n",
      " 'warm_start': False}\n"
     ]
    }
   ],
   "source": [
    "# Train a Random Forest Classifier model\n",
    "from sklearn.ensemble import RandomForestClassifier\n",
    "\n",
    "# Hyperparameters are:\n",
    "clf = RandomForestClassifier(random_state=1, n_estimators=500).fit(X_train_dummies, y_train)\n",
    "\n",
    "# Hyperparameters are:\n",
    "print(\"Hyperparameter List:\")\n",
    "pprint(clf.get_params())"
   ]
  },
  {
   "cell_type": "code",
   "execution_count": 12,
   "metadata": {},
   "outputs": [
    {
     "name": "stdout",
     "output_type": "stream",
     "text": [
      "Training Score: 1.0\n",
      "Testing Score: 0.6180348787749894\n"
     ]
    }
   ],
   "source": [
    "# Print the model score\n",
    "print(f'Training Score: {clf.score(X_train_dummies, y_train)}')\n",
    "print(f'Testing Score: {clf.score(X_test_dummies, y_test)}')"
   ]
  },
  {
   "cell_type": "markdown",
   "metadata": {},
   "source": [
    "## Preprocessing with Scaling\n",
    "\n",
    "I predict that scaling will improve the accuracy of the models, as it should reduce the tendency of the models to 'bias' torwards higher numbers."
   ]
  },
  {
   "cell_type": "code",
   "execution_count": 13,
   "metadata": {},
   "outputs": [],
   "source": [
    "# Scale the data - 04-Ins_Preprocessing-Data\n",
    "scaler = StandardScaler().fit(X_train_dummies)\n",
    "X_train_scaled = scaler.transform(X_train_dummies)\n",
    "\n",
    "# Transforming the test dataset based on the fit from the training dataset\n",
    "X_test_scaled = scaler.transform(X_test_dummies)"
   ]
  },
  {
   "cell_type": "markdown",
   "metadata": {},
   "source": [
    "## Re-running the Models\n",
    "\n",
    "Scaling helps Logistic Regression more than Random Forests, so I predict that Logistic Regression will finally perform better."
   ]
  },
  {
   "cell_type": "code",
   "execution_count": 14,
   "metadata": {},
   "outputs": [
    {
     "name": "stdout",
     "output_type": "stream",
     "text": [
      "Training Data Score: 0.713136288998358\n",
      "Testing Data Score: 0.7201190982560612\n"
     ]
    },
    {
     "name": "stderr",
     "output_type": "stream",
     "text": [
      "C:\\Users\\emera\\anaconda3\\lib\\site-packages\\sklearn\\linear_model\\_logistic.py:763: ConvergenceWarning: lbfgs failed to converge (status=1):\n",
      "STOP: TOTAL NO. of ITERATIONS REACHED LIMIT.\n",
      "\n",
      "Increase the number of iterations (max_iter) or scale the data as shown in:\n",
      "    https://scikit-learn.org/stable/modules/preprocessing.html\n",
      "Please also refer to the documentation for alternative solver options:\n",
      "    https://scikit-learn.org/stable/modules/linear_model.html#logistic-regression\n",
      "  n_iter_i = _check_optimize_result(\n"
     ]
    }
   ],
   "source": [
    "# Train the Logistic Regression model on the scaled data\n",
    "classifier = LogisticRegression(solver = \"lbfgs\")\n",
    "classifier.fit(X_train_scaled, y_train)\n",
    "\n",
    "# Print the model score\n",
    "print(f\"Training Data Score: {classifier.score(X_train_scaled, y_train)}\")\n",
    "print(f\"Testing Data Score: {classifier.score(X_test_scaled, y_test)}\")"
   ]
  },
  {
   "cell_type": "code",
   "execution_count": 15,
   "metadata": {},
   "outputs": [
    {
     "name": "stdout",
     "output_type": "stream",
     "text": [
      "Training Score: 1.0\n",
      "Testing Score: 0.6193109315185028\n"
     ]
    }
   ],
   "source": [
    "# Train a Random Forest Classifier model on the scaled data\n",
    "clf = RandomForestClassifier(random_state=1, n_estimators=500).fit(X_train_scaled, y_train)\n",
    "\n",
    "# Print the model score\n",
    "print(f'Training Score: {clf.score(X_train_scaled, y_train)}')\n",
    "print(f'Testing Score: {clf.score(X_test_scaled, y_test)}')"
   ]
  },
  {
   "cell_type": "markdown",
   "metadata": {},
   "source": [
    "## Final Analysis\n",
    "\n",
    "Regarding the testing score, the methods performed as follows:\n",
    "\n",
    "    Logistic Regression, Scaling Testing Data Score: 0.7201190982560612\n",
    "\n",
    "    Random Forest, Scaling Testing Score: 0.6193109315185028\n",
    "\n",
    "    Random Forest, No Scaling Testing Score: 0.6180348787749894\n",
    "\n",
    "    Logistic Regression, No Scaling Testing Data Score: 0.5253083794130158\n",
    "\n",
    "\n",
    "\n",
    "\n",
    "Prediction 1: Logistic Regression will perform better than Random Forests before scaling - Incorrect\n",
    "\n",
    "Prediction 2: Scaling will improve the model score - No change for Random Forests (difference of 0.001), Correct for Logistic Regression\n",
    "\n",
    "Prediction 3: Logistic Regression will perform better than Random Forests after scaling - Correct\n",
    "\n",
    "Learning: Not all models have a bias towards higher value numbers. Logistic Regression does and should, therefore, use scaled features."
   ]
  },
  {
   "cell_type": "markdown",
   "metadata": {},
   "source": [
    "## Additional Information"
   ]
  },
  {
   "cell_type": "markdown",
   "metadata": {},
   "source": [
    "### Confusion Matrix and Classification Reports:"
   ]
  },
  {
   "cell_type": "code",
   "execution_count": 16,
   "metadata": {},
   "outputs": [
    {
     "data": {
      "text/plain": [
       "array([[1242, 1109],\n",
       "       [ 207, 2144]], dtype=int64)"
      ]
     },
     "execution_count": 16,
     "metadata": {},
     "output_type": "execute_result"
    }
   ],
   "source": [
    "from sklearn.metrics import confusion_matrix\n",
    "\n",
    "y_true = y_test\n",
    "y_pred = classifier.predict(X_test_scaled)\n",
    "\n",
    "# [True Negative, False Positive], [False Negative, True Positive]\n",
    "confusion_matrix(y_true, y_pred)"
   ]
  },
  {
   "cell_type": "code",
   "execution_count": 17,
   "metadata": {},
   "outputs": [
    {
     "name": "stdout",
     "output_type": "stream",
     "text": [
      "Handmade Classification Report:\n",
      "0.8571428571428571 0.528285835814547 0.6536842105263158 2351\n",
      "0.6590839225330464 0.9119523606975755 0.765167737330478 2351\n",
      "0.7201190982560612\n",
      "0.7581133898379517 0.7201190982560612 0.7094259739283969\n",
      "0.7581133898379517 0.7201190982560612 0.7094259739283969\n"
     ]
    }
   ],
   "source": [
    "cm = confusion_matrix(y_true, y_pred)\n",
    "\n",
    "# True Negatives, False Positives, False Negatives, True Positives\n",
    "tn, fp, fn, tp = cm.ravel()\n",
    "\n",
    "# The ratio of the correctly labeled subjects to the whole pool of subjects\n",
    "accuracy = (tp + tn) / (tp + fp + fn + tn)\n",
    "\n",
    "# The ratio of correctly 'positive' labeled subjects to all 'positive' labeled\n",
    "precision = tp / (tp + fp)\n",
    "\n",
    "# (Also 'sensitivity') The ratio of correctly 'positive' labeled subjects to all that should have been labelled 'positive'\n",
    "recall = tp / (tp + fn)\n",
    "\n",
    "# The correctly 'negative' labeled subjects to all that should have been labelled 'negative'\n",
    "specificity = tn / (tn + fp)\n",
    "\n",
    "# The ratio of correctly 'negative' labeled subjects to all 'negative' labeled\n",
    "negativePredictiveValue = tn / (tn + fn)\n",
    "\n",
    "# The harmonic mean(average) of the precision and recall\n",
    "# Harmonic Mean: The appropriate mean if the data is comprised of rates (false positive *rate*, etc)\n",
    "# harmonic mean = N / [(1/x1) + (1/x2) = (1/xN)], simplified for 2 items below\n",
    "# F1 Score is best/highest if there is balance between precision & recall\n",
    "\n",
    "# In this case \"0\" is high-risk loans and \"1\" is low-risk\n",
    "f1_0 = 2*(negativePredictiveValue * specificity) / (negativePredictiveValue + specificity)\n",
    "f1_1 = 2*(recall * precision) / (recall + precision)\n",
    "\n",
    "# The 'support' is the number of occurrences of each class in y_true\n",
    "support_0 = y_true.value_counts()[0]\n",
    "support_1 = y_true.value_counts()[1]\n",
    "\n",
    "# Macro-averaged F1 score is the arithmetic mean (aka unweighted mean) of all the per-class F1 scores\n",
    "length = len(y_true.value_counts())\n",
    "\n",
    "macro_avg_npv_prec = (negativePredictiveValue + precision) / length\n",
    "macro_avg_spec_rec = (specificity + recall) / length\n",
    "macro_avg_f1 = (f1_0 + f1_1) / length\n",
    "\n",
    "# Weighted-averaged F1 score is the mean of all per-class F1 scores while considering each class’s support (weight)\n",
    "wt_0 = support_0 / (support_0 + support_1)\n",
    "wt_1 = support_1 / (support_0 + support_1)\n",
    "\n",
    "weighted_npv_prec = ((negativePredictiveValue * wt_0) + (precision * wt_1)) / (wt_0 + wt_1)\n",
    "weighted_spec_rec = ((specificity * wt_0) + (recall * wt_1)) / (wt_0 + wt_1)\n",
    "weighted_f1 = ((f1_0 * wt_0) + (f1_1 * wt_1)) / (wt_0 + wt_1)\n",
    "# They are the same in the report below because there are the same number of high-risk and low-risk subjects\n",
    "\n",
    "print(\"Handmade Classification Report:\")\n",
    "print(negativePredictiveValue, specificity, f1_0, support_0)\n",
    "print(precision, recall, f1_1, support_1)\n",
    "print(accuracy)\n",
    "print(macro_avg_npv_prec, macro_avg_spec_rec, macro_avg_f1)\n",
    "print(weighted_npv_prec, weighted_spec_rec, weighted_f1)"
   ]
  },
  {
   "cell_type": "code",
   "execution_count": 18,
   "metadata": {},
   "outputs": [
    {
     "name": "stdout",
     "output_type": "stream",
     "text": [
      "              precision    recall  f1-score   support\n",
      "\n",
      "   high_risk       0.86      0.53      0.65      2351\n",
      "    low_risk       0.66      0.91      0.77      2351\n",
      "\n",
      "    accuracy                           0.72      4702\n",
      "   macro avg       0.76      0.72      0.71      4702\n",
      "weighted avg       0.76      0.72      0.71      4702\n",
      "\n"
     ]
    }
   ],
   "source": [
    "# sklearn classification_report for comparison\n",
    "from sklearn.metrics import classification_report\n",
    "\n",
    "print(classification_report(y_true, y_pred))"
   ]
  },
  {
   "cell_type": "code",
   "execution_count": null,
   "metadata": {},
   "outputs": [],
   "source": []
  }
 ],
 "metadata": {
  "kernelspec": {
   "display_name": "Python 3",
   "language": "python",
   "name": "python3"
  },
  "language_info": {
   "codemirror_mode": {
    "name": "ipython",
    "version": 3
   },
   "file_extension": ".py",
   "mimetype": "text/x-python",
   "name": "python",
   "nbconvert_exporter": "python",
   "pygments_lexer": "ipython3",
   "version": "3.8.8"
  }
 },
 "nbformat": 4,
 "nbformat_minor": 4
}
